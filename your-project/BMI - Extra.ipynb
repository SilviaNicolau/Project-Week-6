{
 "cells": [
  {
   "cell_type": "code",
   "execution_count": 1,
   "metadata": {},
   "outputs": [],
   "source": [
    "import pandas as pd\n",
    "import matplotlib.pyplot as plt\n",
    "import seaborn as sns\n",
    "from scipy import stats\n",
    "from scipy.stats import f_oneway\n",
    "from scipy.stats import ttest_1samp\n",
    "%matplotlib inline"
   ]
  },
  {
   "cell_type": "code",
   "execution_count": 2,
   "metadata": {},
   "outputs": [
    {
     "data": {
      "text/html": [
       "<div>\n",
       "<style scoped>\n",
       "    .dataframe tbody tr th:only-of-type {\n",
       "        vertical-align: middle;\n",
       "    }\n",
       "\n",
       "    .dataframe tbody tr th {\n",
       "        vertical-align: top;\n",
       "    }\n",
       "\n",
       "    .dataframe thead th {\n",
       "        text-align: right;\n",
       "    }\n",
       "</style>\n",
       "<table border=\"1\" class=\"dataframe\">\n",
       "  <thead>\n",
       "    <tr style=\"text-align: right;\">\n",
       "      <th></th>\n",
       "      <th>Location</th>\n",
       "      <th>Period</th>\n",
       "      <th>BMI</th>\n",
       "    </tr>\n",
       "  </thead>\n",
       "  <tbody>\n",
       "    <tr>\n",
       "      <td>0</td>\n",
       "      <td>Albania</td>\n",
       "      <td>2015</td>\n",
       "      <td>26.6</td>\n",
       "    </tr>\n",
       "    <tr>\n",
       "      <td>1</td>\n",
       "      <td>Albania</td>\n",
       "      <td>2014</td>\n",
       "      <td>26.5</td>\n",
       "    </tr>\n",
       "    <tr>\n",
       "      <td>2</td>\n",
       "      <td>Albania</td>\n",
       "      <td>2013</td>\n",
       "      <td>26.4</td>\n",
       "    </tr>\n",
       "    <tr>\n",
       "      <td>3</td>\n",
       "      <td>Albania</td>\n",
       "      <td>2012</td>\n",
       "      <td>26.3</td>\n",
       "    </tr>\n",
       "    <tr>\n",
       "      <td>4</td>\n",
       "      <td>Albania</td>\n",
       "      <td>2011</td>\n",
       "      <td>26.2</td>\n",
       "    </tr>\n",
       "  </tbody>\n",
       "</table>\n",
       "</div>"
      ],
      "text/plain": [
       "  Location  Period   BMI\n",
       "0  Albania    2015  26.6\n",
       "1  Albania    2014  26.5\n",
       "2  Albania    2013  26.4\n",
       "3  Albania    2012  26.3\n",
       "4  Albania    2011  26.2"
      ]
     },
     "execution_count": 2,
     "metadata": {},
     "output_type": "execute_result"
    }
   ],
   "source": [
    "bmi = pd.read_excel('Data_Raw/BMI - extra.xlsx')\n",
    "bmi.head()"
   ]
  },
  {
   "cell_type": "code",
   "execution_count": 3,
   "metadata": {},
   "outputs": [
    {
     "data": {
      "text/html": [
       "<div>\n",
       "<style scoped>\n",
       "    .dataframe tbody tr th:only-of-type {\n",
       "        vertical-align: middle;\n",
       "    }\n",
       "\n",
       "    .dataframe tbody tr th {\n",
       "        vertical-align: top;\n",
       "    }\n",
       "\n",
       "    .dataframe thead th {\n",
       "        text-align: right;\n",
       "    }\n",
       "</style>\n",
       "<table border=\"1\" class=\"dataframe\">\n",
       "  <thead>\n",
       "    <tr style=\"text-align: right;\">\n",
       "      <th></th>\n",
       "      <th>Country</th>\n",
       "      <th>Year</th>\n",
       "      <th>BMI</th>\n",
       "    </tr>\n",
       "  </thead>\n",
       "  <tbody>\n",
       "    <tr>\n",
       "      <td>0</td>\n",
       "      <td>Albania</td>\n",
       "      <td>2015</td>\n",
       "      <td>26.6</td>\n",
       "    </tr>\n",
       "    <tr>\n",
       "      <td>1</td>\n",
       "      <td>Albania</td>\n",
       "      <td>2014</td>\n",
       "      <td>26.5</td>\n",
       "    </tr>\n",
       "    <tr>\n",
       "      <td>2</td>\n",
       "      <td>Albania</td>\n",
       "      <td>2013</td>\n",
       "      <td>26.4</td>\n",
       "    </tr>\n",
       "    <tr>\n",
       "      <td>3</td>\n",
       "      <td>Albania</td>\n",
       "      <td>2012</td>\n",
       "      <td>26.3</td>\n",
       "    </tr>\n",
       "    <tr>\n",
       "      <td>4</td>\n",
       "      <td>Albania</td>\n",
       "      <td>2011</td>\n",
       "      <td>26.2</td>\n",
       "    </tr>\n",
       "  </tbody>\n",
       "</table>\n",
       "</div>"
      ],
      "text/plain": [
       "   Country  Year   BMI\n",
       "0  Albania  2015  26.6\n",
       "1  Albania  2014  26.5\n",
       "2  Albania  2013  26.4\n",
       "3  Albania  2012  26.3\n",
       "4  Albania  2011  26.2"
      ]
     },
     "execution_count": 3,
     "metadata": {},
     "output_type": "execute_result"
    }
   ],
   "source": [
    "bmi.columns = ['Country','Year', 'BMI']\n",
    "bmi.head()"
   ]
  },
  {
   "cell_type": "code",
   "execution_count": 4,
   "metadata": {},
   "outputs": [
    {
     "data": {
      "text/plain": [
       "(1721, 3)"
      ]
     },
     "execution_count": 4,
     "metadata": {},
     "output_type": "execute_result"
    }
   ],
   "source": [
    "bmi.shape"
   ]
  },
  {
   "cell_type": "code",
   "execution_count": 5,
   "metadata": {},
   "outputs": [
    {
     "data": {
      "text/plain": [
       "Country     object\n",
       "Year         int64\n",
       "BMI        float64\n",
       "dtype: object"
      ]
     },
     "execution_count": 5,
     "metadata": {},
     "output_type": "execute_result"
    }
   ],
   "source": [
    "bmi.dtypes"
   ]
  },
  {
   "cell_type": "markdown",
   "metadata": {},
   "source": [
    "## Analysis"
   ]
  },
  {
   "cell_type": "code",
   "execution_count": 6,
   "metadata": {},
   "outputs": [
    {
     "data": {
      "text/html": [
       "<div>\n",
       "<style scoped>\n",
       "    .dataframe tbody tr th:only-of-type {\n",
       "        vertical-align: middle;\n",
       "    }\n",
       "\n",
       "    .dataframe tbody tr th {\n",
       "        vertical-align: top;\n",
       "    }\n",
       "\n",
       "    .dataframe thead th {\n",
       "        text-align: right;\n",
       "    }\n",
       "</style>\n",
       "<table border=\"1\" class=\"dataframe\">\n",
       "  <thead>\n",
       "    <tr style=\"text-align: right;\">\n",
       "      <th>Country</th>\n",
       "      <th>Albania</th>\n",
       "      <th>Andorra</th>\n",
       "      <th>Armenia</th>\n",
       "      <th>Austria</th>\n",
       "      <th>Belarus</th>\n",
       "      <th>Belgium</th>\n",
       "      <th>Bosnia and Herzegovina</th>\n",
       "      <th>Bulgaria</th>\n",
       "      <th>Croatia</th>\n",
       "      <th>Cyprus</th>\n",
       "      <th>...</th>\n",
       "      <th>Romania</th>\n",
       "      <th>Serbia</th>\n",
       "      <th>Slovakia</th>\n",
       "      <th>Slovenia</th>\n",
       "      <th>Spain</th>\n",
       "      <th>Sweden</th>\n",
       "      <th>Switzerland</th>\n",
       "      <th>The former Yugoslav Republic of Macedonia</th>\n",
       "      <th>Ukraine</th>\n",
       "      <th>United Kingdom of Great Britain and Northern Ireland</th>\n",
       "    </tr>\n",
       "    <tr>\n",
       "      <th>Year</th>\n",
       "      <th></th>\n",
       "      <th></th>\n",
       "      <th></th>\n",
       "      <th></th>\n",
       "      <th></th>\n",
       "      <th></th>\n",
       "      <th></th>\n",
       "      <th></th>\n",
       "      <th></th>\n",
       "      <th></th>\n",
       "      <th></th>\n",
       "      <th></th>\n",
       "      <th></th>\n",
       "      <th></th>\n",
       "      <th></th>\n",
       "      <th></th>\n",
       "      <th></th>\n",
       "      <th></th>\n",
       "      <th></th>\n",
       "      <th></th>\n",
       "      <th></th>\n",
       "    </tr>\n",
       "  </thead>\n",
       "  <tbody>\n",
       "    <tr>\n",
       "      <td>1975</td>\n",
       "      <td>23.8</td>\n",
       "      <td>25.4</td>\n",
       "      <td>24.2</td>\n",
       "      <td>24.1</td>\n",
       "      <td>24.0</td>\n",
       "      <td>24.9</td>\n",
       "      <td>23.4</td>\n",
       "      <td>24.1</td>\n",
       "      <td>23.5</td>\n",
       "      <td>23.7</td>\n",
       "      <td>...</td>\n",
       "      <td>23.2</td>\n",
       "      <td>24.1</td>\n",
       "      <td>24.3</td>\n",
       "      <td>23.9</td>\n",
       "      <td>24.8</td>\n",
       "      <td>23.6</td>\n",
       "      <td>23.7</td>\n",
       "      <td>24.3</td>\n",
       "      <td>24.5</td>\n",
       "      <td>23.7</td>\n",
       "    </tr>\n",
       "    <tr>\n",
       "      <td>1976</td>\n",
       "      <td>23.8</td>\n",
       "      <td>25.5</td>\n",
       "      <td>24.3</td>\n",
       "      <td>24.1</td>\n",
       "      <td>24.1</td>\n",
       "      <td>24.9</td>\n",
       "      <td>23.5</td>\n",
       "      <td>24.1</td>\n",
       "      <td>23.6</td>\n",
       "      <td>23.8</td>\n",
       "      <td>...</td>\n",
       "      <td>23.3</td>\n",
       "      <td>24.2</td>\n",
       "      <td>24.4</td>\n",
       "      <td>24.0</td>\n",
       "      <td>24.8</td>\n",
       "      <td>23.6</td>\n",
       "      <td>23.7</td>\n",
       "      <td>24.4</td>\n",
       "      <td>24.6</td>\n",
       "      <td>23.8</td>\n",
       "    </tr>\n",
       "    <tr>\n",
       "      <td>1977</td>\n",
       "      <td>23.9</td>\n",
       "      <td>25.6</td>\n",
       "      <td>24.4</td>\n",
       "      <td>24.1</td>\n",
       "      <td>24.2</td>\n",
       "      <td>24.9</td>\n",
       "      <td>23.5</td>\n",
       "      <td>24.2</td>\n",
       "      <td>23.7</td>\n",
       "      <td>23.9</td>\n",
       "      <td>...</td>\n",
       "      <td>23.3</td>\n",
       "      <td>24.3</td>\n",
       "      <td>24.5</td>\n",
       "      <td>24.1</td>\n",
       "      <td>24.9</td>\n",
       "      <td>23.7</td>\n",
       "      <td>23.7</td>\n",
       "      <td>24.5</td>\n",
       "      <td>24.7</td>\n",
       "      <td>23.9</td>\n",
       "    </tr>\n",
       "    <tr>\n",
       "      <td>1978</td>\n",
       "      <td>23.9</td>\n",
       "      <td>25.6</td>\n",
       "      <td>24.5</td>\n",
       "      <td>24.1</td>\n",
       "      <td>24.3</td>\n",
       "      <td>24.9</td>\n",
       "      <td>23.6</td>\n",
       "      <td>24.3</td>\n",
       "      <td>23.8</td>\n",
       "      <td>24.1</td>\n",
       "      <td>...</td>\n",
       "      <td>23.4</td>\n",
       "      <td>24.3</td>\n",
       "      <td>24.6</td>\n",
       "      <td>24.2</td>\n",
       "      <td>25.0</td>\n",
       "      <td>23.7</td>\n",
       "      <td>23.7</td>\n",
       "      <td>24.5</td>\n",
       "      <td>24.7</td>\n",
       "      <td>24.0</td>\n",
       "    </tr>\n",
       "    <tr>\n",
       "      <td>1979</td>\n",
       "      <td>24.0</td>\n",
       "      <td>25.7</td>\n",
       "      <td>24.5</td>\n",
       "      <td>24.1</td>\n",
       "      <td>24.4</td>\n",
       "      <td>24.9</td>\n",
       "      <td>23.7</td>\n",
       "      <td>24.4</td>\n",
       "      <td>24.0</td>\n",
       "      <td>24.2</td>\n",
       "      <td>...</td>\n",
       "      <td>23.5</td>\n",
       "      <td>24.4</td>\n",
       "      <td>24.6</td>\n",
       "      <td>24.3</td>\n",
       "      <td>25.0</td>\n",
       "      <td>23.8</td>\n",
       "      <td>23.7</td>\n",
       "      <td>24.6</td>\n",
       "      <td>24.8</td>\n",
       "      <td>24.0</td>\n",
       "    </tr>\n",
       "  </tbody>\n",
       "</table>\n",
       "<p>5 rows × 42 columns</p>\n",
       "</div>"
      ],
      "text/plain": [
       "Country  Albania  Andorra  Armenia  Austria  Belarus  Belgium  \\\n",
       "Year                                                            \n",
       "1975        23.8     25.4     24.2     24.1     24.0     24.9   \n",
       "1976        23.8     25.5     24.3     24.1     24.1     24.9   \n",
       "1977        23.9     25.6     24.4     24.1     24.2     24.9   \n",
       "1978        23.9     25.6     24.5     24.1     24.3     24.9   \n",
       "1979        24.0     25.7     24.5     24.1     24.4     24.9   \n",
       "\n",
       "Country  Bosnia and Herzegovina  Bulgaria  Croatia  Cyprus  ...  Romania  \\\n",
       "Year                                                        ...            \n",
       "1975                       23.4      24.1     23.5    23.7  ...     23.2   \n",
       "1976                       23.5      24.1     23.6    23.8  ...     23.3   \n",
       "1977                       23.5      24.2     23.7    23.9  ...     23.3   \n",
       "1978                       23.6      24.3     23.8    24.1  ...     23.4   \n",
       "1979                       23.7      24.4     24.0    24.2  ...     23.5   \n",
       "\n",
       "Country  Serbia  Slovakia  Slovenia  Spain  Sweden  Switzerland  \\\n",
       "Year                                                              \n",
       "1975       24.1      24.3      23.9   24.8    23.6         23.7   \n",
       "1976       24.2      24.4      24.0   24.8    23.6         23.7   \n",
       "1977       24.3      24.5      24.1   24.9    23.7         23.7   \n",
       "1978       24.3      24.6      24.2   25.0    23.7         23.7   \n",
       "1979       24.4      24.6      24.3   25.0    23.8         23.7   \n",
       "\n",
       "Country  The former Yugoslav Republic of Macedonia  Ukraine  \\\n",
       "Year                                                          \n",
       "1975                                          24.3     24.5   \n",
       "1976                                          24.4     24.6   \n",
       "1977                                          24.5     24.7   \n",
       "1978                                          24.5     24.7   \n",
       "1979                                          24.6     24.8   \n",
       "\n",
       "Country  United Kingdom of Great Britain and Northern Ireland  \n",
       "Year                                                           \n",
       "1975                                                  23.7     \n",
       "1976                                                  23.8     \n",
       "1977                                                  23.9     \n",
       "1978                                                  24.0     \n",
       "1979                                                  24.0     \n",
       "\n",
       "[5 rows x 42 columns]"
      ]
     },
     "execution_count": 6,
     "metadata": {},
     "output_type": "execute_result"
    }
   ],
   "source": [
    "bmi = bmi.pivot_table(values='BMI', index=['Year'], columns=['Country'])\n",
    "bmi.head()"
   ]
  },
  {
   "cell_type": "code",
   "execution_count": 7,
   "metadata": {},
   "outputs": [
    {
     "data": {
      "text/html": [
       "<div>\n",
       "<style scoped>\n",
       "    .dataframe tbody tr th:only-of-type {\n",
       "        vertical-align: middle;\n",
       "    }\n",
       "\n",
       "    .dataframe tbody tr th {\n",
       "        vertical-align: top;\n",
       "    }\n",
       "\n",
       "    .dataframe thead th {\n",
       "        text-align: right;\n",
       "    }\n",
       "</style>\n",
       "<table border=\"1\" class=\"dataframe\">\n",
       "  <thead>\n",
       "    <tr style=\"text-align: right;\">\n",
       "      <th>Country</th>\n",
       "      <th>Year</th>\n",
       "      <th>Albania</th>\n",
       "      <th>Andorra</th>\n",
       "      <th>Armenia</th>\n",
       "      <th>Austria</th>\n",
       "      <th>Belarus</th>\n",
       "      <th>Belgium</th>\n",
       "      <th>Bosnia and Herzegovina</th>\n",
       "      <th>Bulgaria</th>\n",
       "      <th>Croatia</th>\n",
       "      <th>...</th>\n",
       "      <th>Romania</th>\n",
       "      <th>Serbia</th>\n",
       "      <th>Slovakia</th>\n",
       "      <th>Slovenia</th>\n",
       "      <th>Spain</th>\n",
       "      <th>Sweden</th>\n",
       "      <th>Switzerland</th>\n",
       "      <th>The former Yugoslav Republic of Macedonia</th>\n",
       "      <th>Ukraine</th>\n",
       "      <th>United Kingdom of Great Britain and Northern Ireland</th>\n",
       "    </tr>\n",
       "  </thead>\n",
       "  <tbody>\n",
       "    <tr>\n",
       "      <td>0</td>\n",
       "      <td>1975</td>\n",
       "      <td>23.8</td>\n",
       "      <td>25.4</td>\n",
       "      <td>24.2</td>\n",
       "      <td>24.1</td>\n",
       "      <td>24.0</td>\n",
       "      <td>24.9</td>\n",
       "      <td>23.4</td>\n",
       "      <td>24.1</td>\n",
       "      <td>23.5</td>\n",
       "      <td>...</td>\n",
       "      <td>23.2</td>\n",
       "      <td>24.1</td>\n",
       "      <td>24.3</td>\n",
       "      <td>23.9</td>\n",
       "      <td>24.8</td>\n",
       "      <td>23.6</td>\n",
       "      <td>23.7</td>\n",
       "      <td>24.3</td>\n",
       "      <td>24.5</td>\n",
       "      <td>23.7</td>\n",
       "    </tr>\n",
       "    <tr>\n",
       "      <td>1</td>\n",
       "      <td>1976</td>\n",
       "      <td>23.8</td>\n",
       "      <td>25.5</td>\n",
       "      <td>24.3</td>\n",
       "      <td>24.1</td>\n",
       "      <td>24.1</td>\n",
       "      <td>24.9</td>\n",
       "      <td>23.5</td>\n",
       "      <td>24.1</td>\n",
       "      <td>23.6</td>\n",
       "      <td>...</td>\n",
       "      <td>23.3</td>\n",
       "      <td>24.2</td>\n",
       "      <td>24.4</td>\n",
       "      <td>24.0</td>\n",
       "      <td>24.8</td>\n",
       "      <td>23.6</td>\n",
       "      <td>23.7</td>\n",
       "      <td>24.4</td>\n",
       "      <td>24.6</td>\n",
       "      <td>23.8</td>\n",
       "    </tr>\n",
       "    <tr>\n",
       "      <td>2</td>\n",
       "      <td>1977</td>\n",
       "      <td>23.9</td>\n",
       "      <td>25.6</td>\n",
       "      <td>24.4</td>\n",
       "      <td>24.1</td>\n",
       "      <td>24.2</td>\n",
       "      <td>24.9</td>\n",
       "      <td>23.5</td>\n",
       "      <td>24.2</td>\n",
       "      <td>23.7</td>\n",
       "      <td>...</td>\n",
       "      <td>23.3</td>\n",
       "      <td>24.3</td>\n",
       "      <td>24.5</td>\n",
       "      <td>24.1</td>\n",
       "      <td>24.9</td>\n",
       "      <td>23.7</td>\n",
       "      <td>23.7</td>\n",
       "      <td>24.5</td>\n",
       "      <td>24.7</td>\n",
       "      <td>23.9</td>\n",
       "    </tr>\n",
       "    <tr>\n",
       "      <td>3</td>\n",
       "      <td>1978</td>\n",
       "      <td>23.9</td>\n",
       "      <td>25.6</td>\n",
       "      <td>24.5</td>\n",
       "      <td>24.1</td>\n",
       "      <td>24.3</td>\n",
       "      <td>24.9</td>\n",
       "      <td>23.6</td>\n",
       "      <td>24.3</td>\n",
       "      <td>23.8</td>\n",
       "      <td>...</td>\n",
       "      <td>23.4</td>\n",
       "      <td>24.3</td>\n",
       "      <td>24.6</td>\n",
       "      <td>24.2</td>\n",
       "      <td>25.0</td>\n",
       "      <td>23.7</td>\n",
       "      <td>23.7</td>\n",
       "      <td>24.5</td>\n",
       "      <td>24.7</td>\n",
       "      <td>24.0</td>\n",
       "    </tr>\n",
       "    <tr>\n",
       "      <td>4</td>\n",
       "      <td>1979</td>\n",
       "      <td>24.0</td>\n",
       "      <td>25.7</td>\n",
       "      <td>24.5</td>\n",
       "      <td>24.1</td>\n",
       "      <td>24.4</td>\n",
       "      <td>24.9</td>\n",
       "      <td>23.7</td>\n",
       "      <td>24.4</td>\n",
       "      <td>24.0</td>\n",
       "      <td>...</td>\n",
       "      <td>23.5</td>\n",
       "      <td>24.4</td>\n",
       "      <td>24.6</td>\n",
       "      <td>24.3</td>\n",
       "      <td>25.0</td>\n",
       "      <td>23.8</td>\n",
       "      <td>23.7</td>\n",
       "      <td>24.6</td>\n",
       "      <td>24.8</td>\n",
       "      <td>24.0</td>\n",
       "    </tr>\n",
       "  </tbody>\n",
       "</table>\n",
       "<p>5 rows × 43 columns</p>\n",
       "</div>"
      ],
      "text/plain": [
       "Country  Year  Albania  Andorra  Armenia  Austria  Belarus  Belgium  \\\n",
       "0        1975     23.8     25.4     24.2     24.1     24.0     24.9   \n",
       "1        1976     23.8     25.5     24.3     24.1     24.1     24.9   \n",
       "2        1977     23.9     25.6     24.4     24.1     24.2     24.9   \n",
       "3        1978     23.9     25.6     24.5     24.1     24.3     24.9   \n",
       "4        1979     24.0     25.7     24.5     24.1     24.4     24.9   \n",
       "\n",
       "Country  Bosnia and Herzegovina  Bulgaria  Croatia  ...  Romania  Serbia  \\\n",
       "0                          23.4      24.1     23.5  ...     23.2    24.1   \n",
       "1                          23.5      24.1     23.6  ...     23.3    24.2   \n",
       "2                          23.5      24.2     23.7  ...     23.3    24.3   \n",
       "3                          23.6      24.3     23.8  ...     23.4    24.3   \n",
       "4                          23.7      24.4     24.0  ...     23.5    24.4   \n",
       "\n",
       "Country  Slovakia  Slovenia  Spain  Sweden  Switzerland  \\\n",
       "0            24.3      23.9   24.8    23.6         23.7   \n",
       "1            24.4      24.0   24.8    23.6         23.7   \n",
       "2            24.5      24.1   24.9    23.7         23.7   \n",
       "3            24.6      24.2   25.0    23.7         23.7   \n",
       "4            24.6      24.3   25.0    23.8         23.7   \n",
       "\n",
       "Country  The former Yugoslav Republic of Macedonia  Ukraine  \\\n",
       "0                                             24.3     24.5   \n",
       "1                                             24.4     24.6   \n",
       "2                                             24.5     24.7   \n",
       "3                                             24.5     24.7   \n",
       "4                                             24.6     24.8   \n",
       "\n",
       "Country  United Kingdom of Great Britain and Northern Ireland  \n",
       "0                                                     23.7     \n",
       "1                                                     23.8     \n",
       "2                                                     23.9     \n",
       "3                                                     24.0     \n",
       "4                                                     24.0     \n",
       "\n",
       "[5 rows x 43 columns]"
      ]
     },
     "execution_count": 7,
     "metadata": {},
     "output_type": "execute_result"
    }
   ],
   "source": [
    "bmi.reset_index(inplace=True)\n",
    "bmi.head()"
   ]
  },
  {
   "cell_type": "code",
   "execution_count": 8,
   "metadata": {},
   "outputs": [
    {
     "data": {
      "text/plain": [
       "Index(['Year', 'Albania', 'Andorra', 'Armenia', 'Austria', 'Belarus',\n",
       "       'Belgium', 'Bosnia and Herzegovina', 'Bulgaria', 'Croatia', 'Cyprus',\n",
       "       'Czechia', 'Denmark', 'Estonia', 'Finland', 'France', 'Georgia',\n",
       "       'Germany', 'Greece', 'Hungary', 'Iceland', 'Ireland', 'Italy', 'Latvia',\n",
       "       'Lithuania', 'Luxembourg', 'Malta', 'Montenegro', 'Netherlands',\n",
       "       'Norway', 'Poland', 'Portugal', 'Republic of Moldova', 'Romania',\n",
       "       'Serbia', 'Slovakia', 'Slovenia', 'Spain', 'Sweden', 'Switzerland',\n",
       "       'The former Yugoslav Republic of Macedonia', 'Ukraine',\n",
       "       'United Kingdom of Great Britain and Northern Ireland'],\n",
       "      dtype='object', name='Country')"
      ]
     },
     "execution_count": 8,
     "metadata": {},
     "output_type": "execute_result"
    }
   ],
   "source": [
    "bmi.columns"
   ]
  },
  {
   "cell_type": "code",
   "execution_count": 9,
   "metadata": {},
   "outputs": [
    {
     "data": {
      "text/plain": [
       "F_onewayResult(statistic=27.568048199955125, pvalue=1.4118869437393578e-59)"
      ]
     },
     "execution_count": 9,
     "metadata": {},
     "output_type": "execute_result"
    }
   ],
   "source": [
    "f_oneway(bmi['Albania'], bmi['Andorra'], bmi['Armenia'], bmi['Austria'], bmi['Belarus'], bmi['Belgium'], bmi['Bosnia and Herzegovina'], bmi['Bulgaria'], bmi['Croatia'], bmi['Cyprus'], bmi['Czechia'], bmi['Denmark'], bmi['Estonia'], bmi['Finland'], bmi['France'], bmi['Georgia'])#, bmi['Germany'], bmi['Greece'], bmi['Hungary'], bmi['Iceland'], bmi['Ireland'], bmi['Italy'], bmi['Latvia'], bmi['Lithuania'], bmi['Luxembourg'], bmi['Malta'], bmi['Montenegro'], bmi['Netherlands'], bmi['Norway'], bmi['Poland'], bmi['Portugal'], bmi['Republic of Moldova'], bmi['Romania'], bmi['Serbia'], bmi['Slovakia'], bmi['Slovenia'], bmi['Spain'], bmi['Sweden'], bmi['Switzerland'], bmi['The former Yugoslav Republic of Macedonia'], bmi['Ukraine'], bmi['United Kingdom of Great Britain and Northern Ireland'])"
   ]
  },
  {
   "cell_type": "code",
   "execution_count": 10,
   "metadata": {},
   "outputs": [],
   "source": [
    "# max of 15 entries for ANOVA?!"
   ]
  },
  {
   "cell_type": "code",
   "execution_count": null,
   "metadata": {},
   "outputs": [],
   "source": []
  },
  {
   "cell_type": "code",
   "execution_count": null,
   "metadata": {},
   "outputs": [],
   "source": []
  },
  {
   "cell_type": "code",
   "execution_count": null,
   "metadata": {},
   "outputs": [],
   "source": []
  },
  {
   "cell_type": "code",
   "execution_count": 11,
   "metadata": {},
   "outputs": [
    {
     "data": {
      "text/html": [
       "<div>\n",
       "<style scoped>\n",
       "    .dataframe tbody tr th:only-of-type {\n",
       "        vertical-align: middle;\n",
       "    }\n",
       "\n",
       "    .dataframe tbody tr th {\n",
       "        vertical-align: top;\n",
       "    }\n",
       "\n",
       "    .dataframe thead th {\n",
       "        text-align: right;\n",
       "    }\n",
       "</style>\n",
       "<table border=\"1\" class=\"dataframe\">\n",
       "  <thead>\n",
       "    <tr style=\"text-align: right;\">\n",
       "      <th>Country</th>\n",
       "      <th>Year</th>\n",
       "      <th>Albania</th>\n",
       "      <th>Andorra</th>\n",
       "      <th>Armenia</th>\n",
       "      <th>Austria</th>\n",
       "      <th>Belarus</th>\n",
       "      <th>Belgium</th>\n",
       "      <th>Bosnia and Herzegovina</th>\n",
       "      <th>Bulgaria</th>\n",
       "      <th>Croatia</th>\n",
       "      <th>...</th>\n",
       "      <th>Romania</th>\n",
       "      <th>Serbia</th>\n",
       "      <th>Slovakia</th>\n",
       "      <th>Slovenia</th>\n",
       "      <th>Spain</th>\n",
       "      <th>Sweden</th>\n",
       "      <th>Switzerland</th>\n",
       "      <th>The former Yugoslav Republic of Macedonia</th>\n",
       "      <th>Ukraine</th>\n",
       "      <th>United Kingdom of Great Britain and Northern Ireland</th>\n",
       "    </tr>\n",
       "  </thead>\n",
       "  <tbody>\n",
       "    <tr>\n",
       "      <td>40</td>\n",
       "      <td>2015</td>\n",
       "      <td>26.6</td>\n",
       "      <td>26.7</td>\n",
       "      <td>26.3</td>\n",
       "      <td>25.5</td>\n",
       "      <td>26.6</td>\n",
       "      <td>26.1</td>\n",
       "      <td>25.7</td>\n",
       "      <td>26.4</td>\n",
       "      <td>27.3</td>\n",
       "      <td>...</td>\n",
       "      <td>26.7</td>\n",
       "      <td>26.0</td>\n",
       "      <td>26.4</td>\n",
       "      <td>26.5</td>\n",
       "      <td>26.0</td>\n",
       "      <td>26.0</td>\n",
       "      <td>25.2</td>\n",
       "      <td>26.7</td>\n",
       "      <td>26.5</td>\n",
       "      <td>27.1</td>\n",
       "    </tr>\n",
       "  </tbody>\n",
       "</table>\n",
       "<p>1 rows × 43 columns</p>\n",
       "</div>"
      ],
      "text/plain": [
       "Country  Year  Albania  Andorra  Armenia  Austria  Belarus  Belgium  \\\n",
       "40       2015     26.6     26.7     26.3     25.5     26.6     26.1   \n",
       "\n",
       "Country  Bosnia and Herzegovina  Bulgaria  Croatia  ...  Romania  Serbia  \\\n",
       "40                         25.7      26.4     27.3  ...     26.7    26.0   \n",
       "\n",
       "Country  Slovakia  Slovenia  Spain  Sweden  Switzerland  \\\n",
       "40           26.4      26.5   26.0    26.0         25.2   \n",
       "\n",
       "Country  The former Yugoslav Republic of Macedonia  Ukraine  \\\n",
       "40                                            26.7     26.5   \n",
       "\n",
       "Country  United Kingdom of Great Britain and Northern Ireland  \n",
       "40                                                    27.1     \n",
       "\n",
       "[1 rows x 43 columns]"
      ]
     },
     "execution_count": 11,
     "metadata": {},
     "output_type": "execute_result"
    }
   ],
   "source": [
    "dist = bmi[bmi['Year'] == 2015]\n",
    "dist"
   ]
  },
  {
   "cell_type": "code",
   "execution_count": 12,
   "metadata": {},
   "outputs": [
    {
     "data": {
      "text/html": [
       "<div>\n",
       "<style scoped>\n",
       "    .dataframe tbody tr th:only-of-type {\n",
       "        vertical-align: middle;\n",
       "    }\n",
       "\n",
       "    .dataframe tbody tr th {\n",
       "        vertical-align: top;\n",
       "    }\n",
       "\n",
       "    .dataframe thead th {\n",
       "        text-align: right;\n",
       "    }\n",
       "</style>\n",
       "<table border=\"1\" class=\"dataframe\">\n",
       "  <thead>\n",
       "    <tr style=\"text-align: right;\">\n",
       "      <th></th>\n",
       "      <th>40</th>\n",
       "    </tr>\n",
       "    <tr>\n",
       "      <th>Country</th>\n",
       "      <th></th>\n",
       "    </tr>\n",
       "  </thead>\n",
       "  <tbody>\n",
       "    <tr>\n",
       "      <td>Year</td>\n",
       "      <td>2015.0</td>\n",
       "    </tr>\n",
       "    <tr>\n",
       "      <td>Albania</td>\n",
       "      <td>26.6</td>\n",
       "    </tr>\n",
       "    <tr>\n",
       "      <td>Andorra</td>\n",
       "      <td>26.7</td>\n",
       "    </tr>\n",
       "    <tr>\n",
       "      <td>Armenia</td>\n",
       "      <td>26.3</td>\n",
       "    </tr>\n",
       "    <tr>\n",
       "      <td>Austria</td>\n",
       "      <td>25.5</td>\n",
       "    </tr>\n",
       "  </tbody>\n",
       "</table>\n",
       "</div>"
      ],
      "text/plain": [
       "             40\n",
       "Country        \n",
       "Year     2015.0\n",
       "Albania    26.6\n",
       "Andorra    26.7\n",
       "Armenia    26.3\n",
       "Austria    25.5"
      ]
     },
     "execution_count": 12,
     "metadata": {},
     "output_type": "execute_result"
    }
   ],
   "source": [
    "dist = dist.transpose()\n",
    "dist.head()"
   ]
  },
  {
   "cell_type": "code",
   "execution_count": 13,
   "metadata": {},
   "outputs": [
    {
     "data": {
      "text/html": [
       "<div>\n",
       "<style scoped>\n",
       "    .dataframe tbody tr th:only-of-type {\n",
       "        vertical-align: middle;\n",
       "    }\n",
       "\n",
       "    .dataframe tbody tr th {\n",
       "        vertical-align: top;\n",
       "    }\n",
       "\n",
       "    .dataframe thead th {\n",
       "        text-align: right;\n",
       "    }\n",
       "</style>\n",
       "<table border=\"1\" class=\"dataframe\">\n",
       "  <thead>\n",
       "    <tr style=\"text-align: right;\">\n",
       "      <th></th>\n",
       "      <th>Country</th>\n",
       "      <th>40</th>\n",
       "    </tr>\n",
       "  </thead>\n",
       "  <tbody>\n",
       "    <tr>\n",
       "      <td>0</td>\n",
       "      <td>Year</td>\n",
       "      <td>2015.0</td>\n",
       "    </tr>\n",
       "    <tr>\n",
       "      <td>1</td>\n",
       "      <td>Albania</td>\n",
       "      <td>26.6</td>\n",
       "    </tr>\n",
       "    <tr>\n",
       "      <td>2</td>\n",
       "      <td>Andorra</td>\n",
       "      <td>26.7</td>\n",
       "    </tr>\n",
       "    <tr>\n",
       "      <td>3</td>\n",
       "      <td>Armenia</td>\n",
       "      <td>26.3</td>\n",
       "    </tr>\n",
       "    <tr>\n",
       "      <td>4</td>\n",
       "      <td>Austria</td>\n",
       "      <td>25.5</td>\n",
       "    </tr>\n",
       "  </tbody>\n",
       "</table>\n",
       "</div>"
      ],
      "text/plain": [
       "   Country      40\n",
       "0     Year  2015.0\n",
       "1  Albania    26.6\n",
       "2  Andorra    26.7\n",
       "3  Armenia    26.3\n",
       "4  Austria    25.5"
      ]
     },
     "execution_count": 13,
     "metadata": {},
     "output_type": "execute_result"
    }
   ],
   "source": [
    "dist.reset_index(inplace=True)\n",
    "dist.head()"
   ]
  },
  {
   "cell_type": "code",
   "execution_count": 14,
   "metadata": {},
   "outputs": [
    {
     "data": {
      "text/html": [
       "<div>\n",
       "<style scoped>\n",
       "    .dataframe tbody tr th:only-of-type {\n",
       "        vertical-align: middle;\n",
       "    }\n",
       "\n",
       "    .dataframe tbody tr th {\n",
       "        vertical-align: top;\n",
       "    }\n",
       "\n",
       "    .dataframe thead th {\n",
       "        text-align: right;\n",
       "    }\n",
       "</style>\n",
       "<table border=\"1\" class=\"dataframe\">\n",
       "  <thead>\n",
       "    <tr style=\"text-align: right;\">\n",
       "      <th></th>\n",
       "      <th>Country</th>\n",
       "      <th>40</th>\n",
       "    </tr>\n",
       "  </thead>\n",
       "  <tbody>\n",
       "    <tr>\n",
       "      <td>1</td>\n",
       "      <td>Albania</td>\n",
       "      <td>26.6</td>\n",
       "    </tr>\n",
       "    <tr>\n",
       "      <td>2</td>\n",
       "      <td>Andorra</td>\n",
       "      <td>26.7</td>\n",
       "    </tr>\n",
       "    <tr>\n",
       "      <td>3</td>\n",
       "      <td>Armenia</td>\n",
       "      <td>26.3</td>\n",
       "    </tr>\n",
       "    <tr>\n",
       "      <td>4</td>\n",
       "      <td>Austria</td>\n",
       "      <td>25.5</td>\n",
       "    </tr>\n",
       "    <tr>\n",
       "      <td>5</td>\n",
       "      <td>Belarus</td>\n",
       "      <td>26.6</td>\n",
       "    </tr>\n",
       "  </tbody>\n",
       "</table>\n",
       "</div>"
      ],
      "text/plain": [
       "   Country    40\n",
       "1  Albania  26.6\n",
       "2  Andorra  26.7\n",
       "3  Armenia  26.3\n",
       "4  Austria  25.5\n",
       "5  Belarus  26.6"
      ]
     },
     "execution_count": 14,
     "metadata": {},
     "output_type": "execute_result"
    }
   ],
   "source": [
    "dist.drop(index=0, inplace=True)\n",
    "dist.head()"
   ]
  },
  {
   "cell_type": "code",
   "execution_count": 15,
   "metadata": {},
   "outputs": [
    {
     "data": {
      "text/html": [
       "<div>\n",
       "<style scoped>\n",
       "    .dataframe tbody tr th:only-of-type {\n",
       "        vertical-align: middle;\n",
       "    }\n",
       "\n",
       "    .dataframe tbody tr th {\n",
       "        vertical-align: top;\n",
       "    }\n",
       "\n",
       "    .dataframe thead th {\n",
       "        text-align: right;\n",
       "    }\n",
       "</style>\n",
       "<table border=\"1\" class=\"dataframe\">\n",
       "  <thead>\n",
       "    <tr style=\"text-align: right;\">\n",
       "      <th></th>\n",
       "      <th>Country</th>\n",
       "      <th>BMI</th>\n",
       "    </tr>\n",
       "  </thead>\n",
       "  <tbody>\n",
       "    <tr>\n",
       "      <td>1</td>\n",
       "      <td>Albania</td>\n",
       "      <td>26.6</td>\n",
       "    </tr>\n",
       "    <tr>\n",
       "      <td>2</td>\n",
       "      <td>Andorra</td>\n",
       "      <td>26.7</td>\n",
       "    </tr>\n",
       "    <tr>\n",
       "      <td>3</td>\n",
       "      <td>Armenia</td>\n",
       "      <td>26.3</td>\n",
       "    </tr>\n",
       "    <tr>\n",
       "      <td>4</td>\n",
       "      <td>Austria</td>\n",
       "      <td>25.5</td>\n",
       "    </tr>\n",
       "    <tr>\n",
       "      <td>5</td>\n",
       "      <td>Belarus</td>\n",
       "      <td>26.6</td>\n",
       "    </tr>\n",
       "  </tbody>\n",
       "</table>\n",
       "</div>"
      ],
      "text/plain": [
       "   Country   BMI\n",
       "1  Albania  26.6\n",
       "2  Andorra  26.7\n",
       "3  Armenia  26.3\n",
       "4  Austria  25.5\n",
       "5  Belarus  26.6"
      ]
     },
     "execution_count": 15,
     "metadata": {},
     "output_type": "execute_result"
    }
   ],
   "source": [
    "dist.columns = ['Country', 'BMI']\n",
    "dist.head()"
   ]
  },
  {
   "cell_type": "code",
   "execution_count": 16,
   "metadata": {},
   "outputs": [
    {
     "data": {
      "text/html": [
       "<div>\n",
       "<style scoped>\n",
       "    .dataframe tbody tr th:only-of-type {\n",
       "        vertical-align: middle;\n",
       "    }\n",
       "\n",
       "    .dataframe tbody tr th {\n",
       "        vertical-align: top;\n",
       "    }\n",
       "\n",
       "    .dataframe thead th {\n",
       "        text-align: right;\n",
       "    }\n",
       "</style>\n",
       "<table border=\"1\" class=\"dataframe\">\n",
       "  <thead>\n",
       "    <tr style=\"text-align: right;\">\n",
       "      <th></th>\n",
       "      <th>Country</th>\n",
       "      <th>BMI</th>\n",
       "    </tr>\n",
       "  </thead>\n",
       "  <tbody>\n",
       "    <tr>\n",
       "      <td>15</td>\n",
       "      <td>France</td>\n",
       "      <td>25.0</td>\n",
       "    </tr>\n",
       "    <tr>\n",
       "      <td>39</td>\n",
       "      <td>Switzerland</td>\n",
       "      <td>25.2</td>\n",
       "    </tr>\n",
       "    <tr>\n",
       "      <td>12</td>\n",
       "      <td>Denmark</td>\n",
       "      <td>25.3</td>\n",
       "    </tr>\n",
       "    <tr>\n",
       "      <td>4</td>\n",
       "      <td>Austria</td>\n",
       "      <td>25.5</td>\n",
       "    </tr>\n",
       "    <tr>\n",
       "      <td>28</td>\n",
       "      <td>Netherlands</td>\n",
       "      <td>25.5</td>\n",
       "    </tr>\n",
       "  </tbody>\n",
       "</table>\n",
       "</div>"
      ],
      "text/plain": [
       "        Country   BMI\n",
       "15       France  25.0\n",
       "39  Switzerland  25.2\n",
       "12      Denmark  25.3\n",
       "4       Austria  25.5\n",
       "28  Netherlands  25.5"
      ]
     },
     "execution_count": 16,
     "metadata": {},
     "output_type": "execute_result"
    }
   ],
   "source": [
    "dist.sort_values(by='BMI', inplace=True)\n",
    "dist.head()"
   ]
  },
  {
   "cell_type": "code",
   "execution_count": 27,
   "metadata": {},
   "outputs": [
    {
     "data": {
      "image/png": "[encoded data removed]",
      "text/plain": [
       "<Figure size 432x288 with 1 Axes>"
      ]
     },
     "metadata": {},
     "output_type": "display_data"
    }
   ],
   "source": [
    "sns.set(style=\"ticks\")\n",
    "dist['BMI'].hist(bins=20, color='darkseagreen')\n",
    "plt.grid(None)\n",
    "plt.xlabel('BMI')\n",
    "plt.ylabel('Frequency')\n",
    "plt.title('BMI per country in 2015')\n",
    "plt.show()"
   ]
  },
  {
   "cell_type": "code",
   "execution_count": 18,
   "metadata": {},
   "outputs": [
    {
     "data": {
      "text/plain": [
       "KstestResult(statistic=0.12377686712514002, pvalue=0.5096514225820683)"
      ]
     },
     "execution_count": 18,
     "metadata": {},
     "output_type": "execute_result"
    }
   ],
   "source": [
    "# test for normal distribution with goodness of fit (for continuous dist)\n",
    "loc, scale = stats.norm.fit(dist['BMI'])\n",
    "n = stats.norm(loc=loc, scale=scale)\n",
    "stats.kstest(dist['BMI'], n.cdf)"
   ]
  },
  {
   "cell_type": "code",
   "execution_count": 19,
   "metadata": {},
   "outputs": [],
   "source": [
    "# p-value > 0.05 so I cannot reject the null hypothesis, meaning that my distribution can be a normal one"
   ]
  },
  {
   "cell_type": "code",
   "execution_count": 20,
   "metadata": {},
   "outputs": [
    {
     "data": {
      "text/plain": [
       "(25.19760214079526, 27.588112144919037)"
      ]
     },
     "execution_count": 20,
     "metadata": {},
     "output_type": "execute_result"
    }
   ],
   "source": [
    "# confidence interval\n",
    "conf_int = stats.norm.interval(alpha=0.95, loc=dist['BMI'].mean(), scale=dist['BMI'].std())\n",
    "conf_int"
   ]
  },
  {
   "cell_type": "code",
   "execution_count": 21,
   "metadata": {},
   "outputs": [
    {
     "data": {
      "text/plain": [
       "0.6441615437656166"
      ]
     },
     "execution_count": 21,
     "metadata": {},
     "output_type": "execute_result"
    }
   ],
   "source": [
    "# probability in 2015 of having BMI=25\n",
    "P = stats.norm.pdf(26.5, loc=dist['BMI'].mean(), scale=dist['BMI'].std())\n",
    "P"
   ]
  },
  {
   "cell_type": "code",
   "execution_count": 22,
   "metadata": {},
   "outputs": [
    {
     "data": {
      "text/plain": [
       "Ttest_1sampResult(statistic=-1.1386110381804957, pvalue=0.2614748721815288)"
      ]
     },
     "execution_count": 22,
     "metadata": {},
     "output_type": "execute_result"
    }
   ],
   "source": [
    "# ttest, 1sample, value\n",
    "ttest_1samp(dist['BMI'], 26.5)"
   ]
  },
  {
   "cell_type": "code",
   "execution_count": 23,
   "metadata": {},
   "outputs": [
    {
     "data": {
      "text/plain": [
       "26.39285714285715"
      ]
     },
     "execution_count": 23,
     "metadata": {},
     "output_type": "execute_result"
    }
   ],
   "source": [
    "dist['BMI'].mean()"
   ]
  },
  {
   "cell_type": "code",
   "execution_count": null,
   "metadata": {},
   "outputs": [],
   "source": []
  }
 ],
 "metadata": {
  "kernelspec": {
   "display_name": "Python 3",
   "language": "python",
   "name": "python3"
  },
  "language_info": {
   "codemirror_mode": {
    "name": "ipython",
    "version": 3
   },
   "file_extension": ".py",
   "mimetype": "text/x-python",
   "name": "python",
   "nbconvert_exporter": "python",
   "pygments_lexer": "ipython3",
   "version": "3.7.4"
  }
 },
 "nbformat": 4,
 "nbformat_minor": 2
}
