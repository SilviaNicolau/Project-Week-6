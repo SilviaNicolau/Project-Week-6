{
 "cells": [
  {
   "cell_type": "code",
   "execution_count": 1,
   "metadata": {},
   "outputs": [],
   "source": [
    "import pandas as pd\n",
    "import matplotlib.pyplot as plt\n",
    "from scipy.stats import f_oneway\n",
    "from scipy.stats import ttest_rel, ttest_ind\n",
    "%matplotlib inline"
   ]
  },
  {
   "cell_type": "code",
   "execution_count": 2,
   "metadata": {},
   "outputs": [
    {
     "data": {
      "text/html": [
       "<div>\n",
       "<style scoped>\n",
       "    .dataframe tbody tr th:only-of-type {\n",
       "        vertical-align: middle;\n",
       "    }\n",
       "\n",
       "    .dataframe tbody tr th {\n",
       "        vertical-align: top;\n",
       "    }\n",
       "\n",
       "    .dataframe thead th {\n",
       "        text-align: right;\n",
       "    }\n",
       "</style>\n",
       "<table border=\"1\" class=\"dataframe\">\n",
       "  <thead>\n",
       "    <tr style=\"text-align: right;\">\n",
       "      <th></th>\n",
       "      <th>Year</th>\n",
       "      <th>Population</th>\n",
       "    </tr>\n",
       "  </thead>\n",
       "  <tbody>\n",
       "    <tr>\n",
       "      <td>0</td>\n",
       "      <td>1960</td>\n",
       "      <td>408368028</td>\n",
       "    </tr>\n",
       "    <tr>\n",
       "      <td>1</td>\n",
       "      <td>1961</td>\n",
       "      <td>411717673</td>\n",
       "    </tr>\n",
       "    <tr>\n",
       "      <td>2</td>\n",
       "      <td>1962</td>\n",
       "      <td>415542095</td>\n",
       "    </tr>\n",
       "    <tr>\n",
       "      <td>3</td>\n",
       "      <td>1963</td>\n",
       "      <td>419404381</td>\n",
       "    </tr>\n",
       "    <tr>\n",
       "      <td>4</td>\n",
       "      <td>1964</td>\n",
       "      <td>422938386</td>\n",
       "    </tr>\n",
       "  </tbody>\n",
       "</table>\n",
       "</div>"
      ],
      "text/plain": [
       "   Year  Population\n",
       "0  1960   408368028\n",
       "1  1961   411717673\n",
       "2  1962   415542095\n",
       "3  1963   419404381\n",
       "4  1964   422938386"
      ]
     },
     "execution_count": 2,
     "metadata": {},
     "output_type": "execute_result"
    }
   ],
   "source": [
    "population = pd.read_csv('Data_clean/Population_clean.csv', index_col=0)\n",
    "population.head()"
   ]
  },
  {
   "cell_type": "code",
   "execution_count": 3,
   "metadata": {},
   "outputs": [
    {
     "data": {
      "text/html": [
       "<div>\n",
       "<style scoped>\n",
       "    .dataframe tbody tr th:only-of-type {\n",
       "        vertical-align: middle;\n",
       "    }\n",
       "\n",
       "    .dataframe tbody tr th {\n",
       "        vertical-align: top;\n",
       "    }\n",
       "\n",
       "    .dataframe thead th {\n",
       "        text-align: right;\n",
       "    }\n",
       "</style>\n",
       "<table border=\"1\" class=\"dataframe\">\n",
       "  <thead>\n",
       "    <tr style=\"text-align: right;\">\n",
       "      <th></th>\n",
       "      <th>Year</th>\n",
       "      <th>All Sugar forms</th>\n",
       "      <th>Fruits &amp; Veggies</th>\n",
       "      <th>Sweetners, Honey, Dates</th>\n",
       "    </tr>\n",
       "  </thead>\n",
       "  <tbody>\n",
       "    <tr>\n",
       "      <td>0</td>\n",
       "      <td>1990</td>\n",
       "      <td>274136</td>\n",
       "      <td>169329</td>\n",
       "      <td>3394</td>\n",
       "    </tr>\n",
       "    <tr>\n",
       "      <td>1</td>\n",
       "      <td>1991</td>\n",
       "      <td>237782</td>\n",
       "      <td>163328</td>\n",
       "      <td>2954</td>\n",
       "    </tr>\n",
       "    <tr>\n",
       "      <td>2</td>\n",
       "      <td>1992</td>\n",
       "      <td>231257</td>\n",
       "      <td>162671</td>\n",
       "      <td>3225</td>\n",
       "    </tr>\n",
       "    <tr>\n",
       "      <td>3</td>\n",
       "      <td>1993</td>\n",
       "      <td>235362</td>\n",
       "      <td>153891</td>\n",
       "      <td>3323</td>\n",
       "    </tr>\n",
       "    <tr>\n",
       "      <td>4</td>\n",
       "      <td>1994</td>\n",
       "      <td>207899</td>\n",
       "      <td>146089</td>\n",
       "      <td>3674</td>\n",
       "    </tr>\n",
       "  </tbody>\n",
       "</table>\n",
       "</div>"
      ],
      "text/plain": [
       "   Year  All Sugar forms  Fruits & Veggies  Sweetners, Honey, Dates\n",
       "0  1990           274136            169329                     3394\n",
       "1  1991           237782            163328                     2954\n",
       "2  1992           231257            162671                     3225\n",
       "3  1993           235362            153891                     3323\n",
       "4  1994           207899            146089                     3674"
      ]
     },
     "execution_count": 3,
     "metadata": {},
     "output_type": "execute_result"
    }
   ],
   "source": [
    "food = pd.read_csv('Data_clean/food_clean.csv', index_col=0)\n",
    "food.head()"
   ]
  },
  {
   "cell_type": "code",
   "execution_count": 4,
   "metadata": {},
   "outputs": [
    {
     "data": {
      "text/html": [
       "<div>\n",
       "<style scoped>\n",
       "    .dataframe tbody tr th:only-of-type {\n",
       "        vertical-align: middle;\n",
       "    }\n",
       "\n",
       "    .dataframe tbody tr th {\n",
       "        vertical-align: top;\n",
       "    }\n",
       "\n",
       "    .dataframe thead th {\n",
       "        text-align: right;\n",
       "    }\n",
       "</style>\n",
       "<table border=\"1\" class=\"dataframe\">\n",
       "  <thead>\n",
       "    <tr style=\"text-align: right;\">\n",
       "      <th></th>\n",
       "      <th>Year</th>\n",
       "      <th>All Sugar forms</th>\n",
       "      <th>Fruits &amp; Veggies</th>\n",
       "      <th>Sweetners, Honey, Dates</th>\n",
       "      <th>Population</th>\n",
       "    </tr>\n",
       "  </thead>\n",
       "  <tbody>\n",
       "    <tr>\n",
       "      <td>0</td>\n",
       "      <td>1990</td>\n",
       "      <td>274136</td>\n",
       "      <td>169329</td>\n",
       "      <td>3394</td>\n",
       "      <td>476014973</td>\n",
       "    </tr>\n",
       "    <tr>\n",
       "      <td>1</td>\n",
       "      <td>1991</td>\n",
       "      <td>237782</td>\n",
       "      <td>163328</td>\n",
       "      <td>2954</td>\n",
       "      <td>477383683</td>\n",
       "    </tr>\n",
       "    <tr>\n",
       "      <td>2</td>\n",
       "      <td>1992</td>\n",
       "      <td>231257</td>\n",
       "      <td>162671</td>\n",
       "      <td>3225</td>\n",
       "      <td>478743459</td>\n",
       "    </tr>\n",
       "    <tr>\n",
       "      <td>3</td>\n",
       "      <td>1993</td>\n",
       "      <td>235362</td>\n",
       "      <td>153891</td>\n",
       "      <td>3323</td>\n",
       "      <td>480227396</td>\n",
       "    </tr>\n",
       "    <tr>\n",
       "      <td>4</td>\n",
       "      <td>1994</td>\n",
       "      <td>207899</td>\n",
       "      <td>146089</td>\n",
       "      <td>3674</td>\n",
       "      <td>481398505</td>\n",
       "    </tr>\n",
       "  </tbody>\n",
       "</table>\n",
       "</div>"
      ],
      "text/plain": [
       "   Year  All Sugar forms  Fruits & Veggies  Sweetners, Honey, Dates  \\\n",
       "0  1990           274136            169329                     3394   \n",
       "1  1991           237782            163328                     2954   \n",
       "2  1992           231257            162671                     3225   \n",
       "3  1993           235362            153891                     3323   \n",
       "4  1994           207899            146089                     3674   \n",
       "\n",
       "   Population  \n",
       "0   476014973  \n",
       "1   477383683  \n",
       "2   478743459  \n",
       "3   480227396  \n",
       "4   481398505  "
      ]
     },
     "execution_count": 4,
     "metadata": {},
     "output_type": "execute_result"
    }
   ],
   "source": [
    "food = pd.merge(food, population, on='Year')\n",
    "food.head()"
   ]
  },
  {
   "cell_type": "code",
   "execution_count": 5,
   "metadata": {},
   "outputs": [
    {
     "data": {
      "text/html": [
       "<div>\n",
       "<style scoped>\n",
       "    .dataframe tbody tr th:only-of-type {\n",
       "        vertical-align: middle;\n",
       "    }\n",
       "\n",
       "    .dataframe tbody tr th {\n",
       "        vertical-align: top;\n",
       "    }\n",
       "\n",
       "    .dataframe thead th {\n",
       "        text-align: right;\n",
       "    }\n",
       "</style>\n",
       "<table border=\"1\" class=\"dataframe\">\n",
       "  <thead>\n",
       "    <tr style=\"text-align: right;\">\n",
       "      <th></th>\n",
       "      <th>Year</th>\n",
       "      <th>All Sugar forms</th>\n",
       "      <th>Fruits &amp; Veggies</th>\n",
       "      <th>Sweetners, Honey, Dates</th>\n",
       "      <th>Population</th>\n",
       "      <th>All Sugar forms pp</th>\n",
       "      <th>Fruits &amp; Veggies pp</th>\n",
       "      <th>Sweetners, Honey, Dates pp</th>\n",
       "    </tr>\n",
       "  </thead>\n",
       "  <tbody>\n",
       "    <tr>\n",
       "      <td>0</td>\n",
       "      <td>1990</td>\n",
       "      <td>274136</td>\n",
       "      <td>169329</td>\n",
       "      <td>3394</td>\n",
       "      <td>476014973</td>\n",
       "      <td>575.897851</td>\n",
       "      <td>355.722004</td>\n",
       "      <td>7.130028</td>\n",
       "    </tr>\n",
       "    <tr>\n",
       "      <td>1</td>\n",
       "      <td>1991</td>\n",
       "      <td>237782</td>\n",
       "      <td>163328</td>\n",
       "      <td>2954</td>\n",
       "      <td>477383683</td>\n",
       "      <td>498.094109</td>\n",
       "      <td>342.131509</td>\n",
       "      <td>6.187895</td>\n",
       "    </tr>\n",
       "    <tr>\n",
       "      <td>2</td>\n",
       "      <td>1992</td>\n",
       "      <td>231257</td>\n",
       "      <td>162671</td>\n",
       "      <td>3225</td>\n",
       "      <td>478743459</td>\n",
       "      <td>483.049942</td>\n",
       "      <td>339.787410</td>\n",
       "      <td>6.736384</td>\n",
       "    </tr>\n",
       "    <tr>\n",
       "      <td>3</td>\n",
       "      <td>1993</td>\n",
       "      <td>235362</td>\n",
       "      <td>153891</td>\n",
       "      <td>3323</td>\n",
       "      <td>480227396</td>\n",
       "      <td>490.105317</td>\n",
       "      <td>320.454437</td>\n",
       "      <td>6.919639</td>\n",
       "    </tr>\n",
       "    <tr>\n",
       "      <td>4</td>\n",
       "      <td>1994</td>\n",
       "      <td>207899</td>\n",
       "      <td>146089</td>\n",
       "      <td>3674</td>\n",
       "      <td>481398505</td>\n",
       "      <td>431.864656</td>\n",
       "      <td>303.467914</td>\n",
       "      <td>7.631931</td>\n",
       "    </tr>\n",
       "  </tbody>\n",
       "</table>\n",
       "</div>"
      ],
      "text/plain": [
       "   Year  All Sugar forms  Fruits & Veggies  Sweetners, Honey, Dates  \\\n",
       "0  1990           274136            169329                     3394   \n",
       "1  1991           237782            163328                     2954   \n",
       "2  1992           231257            162671                     3225   \n",
       "3  1993           235362            153891                     3323   \n",
       "4  1994           207899            146089                     3674   \n",
       "\n",
       "   Population  All Sugar forms pp  Fruits & Veggies pp  \\\n",
       "0   476014973          575.897851           355.722004   \n",
       "1   477383683          498.094109           342.131509   \n",
       "2   478743459          483.049942           339.787410   \n",
       "3   480227396          490.105317           320.454437   \n",
       "4   481398505          431.864656           303.467914   \n",
       "\n",
       "   Sweetners, Honey, Dates pp  \n",
       "0                    7.130028  \n",
       "1                    6.187895  \n",
       "2                    6.736384  \n",
       "3                    6.919639  \n",
       "4                    7.631931  "
      ]
     },
     "execution_count": 5,
     "metadata": {},
     "output_type": "execute_result"
    }
   ],
   "source": [
    "food['All Sugar forms pp'] = food['All Sugar forms'] / food['Population'] * 1000 * 1000\n",
    "food['Fruits & Veggies pp'] = food['Fruits & Veggies'] / food['Population'] * 1000 * 1000\n",
    "food['Sweetners, Honey, Dates pp'] = food['Sweetners, Honey, Dates'] / food['Population'] * 1000 * 1000\n",
    "food.head()"
   ]
  },
  {
   "cell_type": "code",
   "execution_count": 6,
   "metadata": {},
   "outputs": [],
   "source": [
    "food.to_csv('Data_Clean/food_final.csv')"
   ]
  },
  {
   "cell_type": "markdown",
   "metadata": {},
   "source": [
    "## Analysis"
   ]
  },
  {
   "cell_type": "code",
   "execution_count": 15,
   "metadata": {},
   "outputs": [
    {
     "data": {
      "text/html": [
       "<div>\n",
       "<style scoped>\n",
       "    .dataframe tbody tr th:only-of-type {\n",
       "        vertical-align: middle;\n",
       "    }\n",
       "\n",
       "    .dataframe tbody tr th {\n",
       "        vertical-align: top;\n",
       "    }\n",
       "\n",
       "    .dataframe thead th {\n",
       "        text-align: right;\n",
       "    }\n",
       "</style>\n",
       "<table border=\"1\" class=\"dataframe\">\n",
       "  <thead>\n",
       "    <tr style=\"text-align: right;\">\n",
       "      <th></th>\n",
       "      <th>Year</th>\n",
       "      <th>All Sugar forms</th>\n",
       "      <th>Fruits &amp; Veggies</th>\n",
       "      <th>Sweetners, Honey, Dates</th>\n",
       "      <th>Population</th>\n",
       "      <th>All Sugar forms pp</th>\n",
       "      <th>Fruits &amp; Veggies pp</th>\n",
       "      <th>Sweetners, Honey, Dates pp</th>\n",
       "    </tr>\n",
       "  </thead>\n",
       "  <tbody>\n",
       "    <tr>\n",
       "      <td>20</td>\n",
       "      <td>2010</td>\n",
       "      <td>177427</td>\n",
       "      <td>164858</td>\n",
       "      <td>8231</td>\n",
       "      <td>503067728</td>\n",
       "      <td>352.690085</td>\n",
       "      <td>327.705378</td>\n",
       "      <td>16.361614</td>\n",
       "    </tr>\n",
       "    <tr>\n",
       "      <td>21</td>\n",
       "      <td>2011</td>\n",
       "      <td>224497</td>\n",
       "      <td>171685</td>\n",
       "      <td>8393</td>\n",
       "      <td>503506293</td>\n",
       "      <td>445.867317</td>\n",
       "      <td>340.978856</td>\n",
       "      <td>16.669106</td>\n",
       "    </tr>\n",
       "    <tr>\n",
       "      <td>22</td>\n",
       "      <td>2012</td>\n",
       "      <td>215820</td>\n",
       "      <td>165326</td>\n",
       "      <td>8381</td>\n",
       "      <td>504605401</td>\n",
       "      <td>427.700535</td>\n",
       "      <td>327.634226</td>\n",
       "      <td>16.609018</td>\n",
       "    </tr>\n",
       "    <tr>\n",
       "      <td>23</td>\n",
       "      <td>2013</td>\n",
       "      <td>200604</td>\n",
       "      <td>173941</td>\n",
       "      <td>8173</td>\n",
       "      <td>506199072</td>\n",
       "      <td>396.294681</td>\n",
       "      <td>343.621728</td>\n",
       "      <td>16.145822</td>\n",
       "    </tr>\n",
       "    <tr>\n",
       "      <td>24</td>\n",
       "      <td>2014</td>\n",
       "      <td>231641</td>\n",
       "      <td>158517</td>\n",
       "      <td>17524</td>\n",
       "      <td>507877648</td>\n",
       "      <td>456.096071</td>\n",
       "      <td>312.116512</td>\n",
       "      <td>34.504373</td>\n",
       "    </tr>\n",
       "  </tbody>\n",
       "</table>\n",
       "</div>"
      ],
      "text/plain": [
       "    Year  All Sugar forms  Fruits & Veggies  Sweetners, Honey, Dates  \\\n",
       "20  2010           177427            164858                     8231   \n",
       "21  2011           224497            171685                     8393   \n",
       "22  2012           215820            165326                     8381   \n",
       "23  2013           200604            173941                     8173   \n",
       "24  2014           231641            158517                    17524   \n",
       "\n",
       "    Population  All Sugar forms pp  Fruits & Veggies pp  \\\n",
       "20   503067728          352.690085           327.705378   \n",
       "21   503506293          445.867317           340.978856   \n",
       "22   504605401          427.700535           327.634226   \n",
       "23   506199072          396.294681           343.621728   \n",
       "24   507877648          456.096071           312.116512   \n",
       "\n",
       "    Sweetners, Honey, Dates pp  \n",
       "20                   16.361614  \n",
       "21                   16.669106  \n",
       "22                   16.609018  \n",
       "23                   16.145822  \n",
       "24                   34.504373  "
      ]
     },
     "execution_count": 15,
     "metadata": {},
     "output_type": "execute_result"
    }
   ],
   "source": [
    "food.tail()"
   ]
  },
  {
   "cell_type": "code",
   "execution_count": 16,
   "metadata": {},
   "outputs": [
    {
     "data": {
      "text/html": [
       "<div>\n",
       "<style scoped>\n",
       "    .dataframe tbody tr th:only-of-type {\n",
       "        vertical-align: middle;\n",
       "    }\n",
       "\n",
       "    .dataframe tbody tr th {\n",
       "        vertical-align: top;\n",
       "    }\n",
       "\n",
       "    .dataframe thead th {\n",
       "        text-align: right;\n",
       "    }\n",
       "</style>\n",
       "<table border=\"1\" class=\"dataframe\">\n",
       "  <thead>\n",
       "    <tr style=\"text-align: right;\">\n",
       "      <th></th>\n",
       "      <th>Year</th>\n",
       "      <th>All Sugar forms</th>\n",
       "      <th>Fruits &amp; Veggies</th>\n",
       "      <th>Sweetners, Honey, Dates</th>\n",
       "      <th>Population</th>\n",
       "      <th>All Sugar forms pp</th>\n",
       "      <th>Fruits &amp; Veggies pp</th>\n",
       "      <th>Sweetners, Honey, Dates pp</th>\n",
       "    </tr>\n",
       "  </thead>\n",
       "  <tbody>\n",
       "    <tr>\n",
       "      <td>19</td>\n",
       "      <td>2009</td>\n",
       "      <td>190284</td>\n",
       "      <td>171577</td>\n",
       "      <td>8048</td>\n",
       "      <td>502630427</td>\n",
       "      <td>378.576365</td>\n",
       "      <td>341.358165</td>\n",
       "      <td>16.011764</td>\n",
       "    </tr>\n",
       "    <tr>\n",
       "      <td>20</td>\n",
       "      <td>2010</td>\n",
       "      <td>177427</td>\n",
       "      <td>164858</td>\n",
       "      <td>8231</td>\n",
       "      <td>503067728</td>\n",
       "      <td>352.690085</td>\n",
       "      <td>327.705378</td>\n",
       "      <td>16.361614</td>\n",
       "    </tr>\n",
       "    <tr>\n",
       "      <td>21</td>\n",
       "      <td>2011</td>\n",
       "      <td>224497</td>\n",
       "      <td>171685</td>\n",
       "      <td>8393</td>\n",
       "      <td>503506293</td>\n",
       "      <td>445.867317</td>\n",
       "      <td>340.978856</td>\n",
       "      <td>16.669106</td>\n",
       "    </tr>\n",
       "    <tr>\n",
       "      <td>22</td>\n",
       "      <td>2012</td>\n",
       "      <td>215820</td>\n",
       "      <td>165326</td>\n",
       "      <td>8381</td>\n",
       "      <td>504605401</td>\n",
       "      <td>427.700535</td>\n",
       "      <td>327.634226</td>\n",
       "      <td>16.609018</td>\n",
       "    </tr>\n",
       "    <tr>\n",
       "      <td>23</td>\n",
       "      <td>2013</td>\n",
       "      <td>200604</td>\n",
       "      <td>173941</td>\n",
       "      <td>8173</td>\n",
       "      <td>506199072</td>\n",
       "      <td>396.294681</td>\n",
       "      <td>343.621728</td>\n",
       "      <td>16.145822</td>\n",
       "    </tr>\n",
       "  </tbody>\n",
       "</table>\n",
       "</div>"
      ],
      "text/plain": [
       "    Year  All Sugar forms  Fruits & Veggies  Sweetners, Honey, Dates  \\\n",
       "19  2009           190284            171577                     8048   \n",
       "20  2010           177427            164858                     8231   \n",
       "21  2011           224497            171685                     8393   \n",
       "22  2012           215820            165326                     8381   \n",
       "23  2013           200604            173941                     8173   \n",
       "\n",
       "    Population  All Sugar forms pp  Fruits & Veggies pp  \\\n",
       "19   502630427          378.576365           341.358165   \n",
       "20   503067728          352.690085           327.705378   \n",
       "21   503506293          445.867317           340.978856   \n",
       "22   504605401          427.700535           327.634226   \n",
       "23   506199072          396.294681           343.621728   \n",
       "\n",
       "    Sweetners, Honey, Dates pp  \n",
       "19                   16.011764  \n",
       "20                   16.361614  \n",
       "21                   16.669106  \n",
       "22                   16.609018  \n",
       "23                   16.145822  "
      ]
     },
     "execution_count": 16,
     "metadata": {},
     "output_type": "execute_result"
    }
   ],
   "source": [
    "food.drop(index=24, inplace=True)\n",
    "food.tail()"
   ]
  },
  {
   "cell_type": "code",
   "execution_count": 17,
   "metadata": {},
   "outputs": [
    {
     "data": {
      "image/png": "[encoded data removed]",
      "text/plain": [
       "<Figure size 1440x360 with 3 Axes>"
      ]
     },
     "metadata": {
      "needs_background": "light"
     },
     "output_type": "display_data"
    }
   ],
   "source": [
    "fig, axs = plt.subplots(1, 3, figsize=(20, 5))\n",
    "\n",
    "axs[0].plot(food['Year'], food['All Sugar forms pp'], color='tab:red')\n",
    "axs[0].set_title('All Sugar forms')\n",
    "axs[0].set_xlabel('Years')\n",
    "axs[0].set_ylabel('kg per person')\n",
    "\n",
    "axs[1].plot(food['Year'], food['Sweetners, Honey, Dates pp'], color='tab:orange')\n",
    "axs[1].set_title('Sweetners, Honey, Dates')\n",
    "axs[1].set_xlabel('Years')\n",
    "axs[1].set_ylabel('kg per person')\n",
    "\n",
    "axs[2].plot(food['Year'], food['Fruits & Veggies pp'], color='g')\n",
    "axs[2].set_title('Fruits & Veggies')\n",
    "axs[2].set_xlabel('Years')\n",
    "axs[2].set_ylabel('kg per person')\n",
    "\n",
    "plt.show()"
   ]
  },
  {
   "cell_type": "markdown",
   "metadata": {},
   "source": [
    "#### ANOVA"
   ]
  },
  {
   "cell_type": "code",
   "execution_count": 8,
   "metadata": {},
   "outputs": [
    {
     "data": {
      "text/plain": [
       "F_onewayResult(statistic=1381.0854295250206, pvalue=3.7725313068548746e-58)"
      ]
     },
     "execution_count": 8,
     "metadata": {},
     "output_type": "execute_result"
    }
   ],
   "source": [
    "f_oneway(food['All Sugar forms pp'], food['Sweetners, Honey, Dates pp'], food['Fruits & Veggies pp'])"
   ]
  },
  {
   "cell_type": "code",
   "execution_count": 9,
   "metadata": {},
   "outputs": [
    {
     "data": {
      "text/plain": [
       "F_onewayResult(statistic=1837.5215181246315, pvalue=6.365967792461749e-40)"
      ]
     },
     "execution_count": 9,
     "metadata": {},
     "output_type": "execute_result"
    }
   ],
   "source": [
    "f_oneway(food['All Sugar forms pp'], food['Sweetners, Honey, Dates pp'])"
   ]
  },
  {
   "cell_type": "code",
   "execution_count": 10,
   "metadata": {},
   "outputs": [
    {
     "data": {
      "text/plain": [
       "F_onewayResult(statistic=96.56750904771273, pvalue=4.472506925805396e-13)"
      ]
     },
     "execution_count": 10,
     "metadata": {},
     "output_type": "execute_result"
    }
   ],
   "source": [
    "f_oneway(food['All Sugar forms pp'], food['Fruits & Veggies pp'])"
   ]
  },
  {
   "cell_type": "code",
   "execution_count": 11,
   "metadata": {},
   "outputs": [
    {
     "data": {
      "text/plain": [
       "F_onewayResult(statistic=10273.958623967834, pvalue=1.2009590516954934e-57)"
      ]
     },
     "execution_count": 11,
     "metadata": {},
     "output_type": "execute_result"
    }
   ],
   "source": [
    "f_oneway(food['Sweetners, Honey, Dates pp'], food['Fruits & Veggies pp'])"
   ]
  },
  {
   "cell_type": "markdown",
   "metadata": {},
   "source": [
    "#### TTests (independent)"
   ]
  },
  {
   "cell_type": "code",
   "execution_count": 12,
   "metadata": {},
   "outputs": [
    {
     "data": {
      "text/plain": [
       "Ttest_indResult(statistic=42.8663214904738, pvalue=6.365967792459755e-40)"
      ]
     },
     "execution_count": 12,
     "metadata": {},
     "output_type": "execute_result"
    }
   ],
   "source": [
    "ttest_ind(food['All Sugar forms pp'], food['Sweetners, Honey, Dates pp'])"
   ]
  },
  {
   "cell_type": "code",
   "execution_count": 13,
   "metadata": {},
   "outputs": [
    {
     "data": {
      "text/plain": [
       "Ttest_indResult(statistic=9.826876871504643, pvalue=4.472506925805305e-13)"
      ]
     },
     "execution_count": 13,
     "metadata": {},
     "output_type": "execute_result"
    }
   ],
   "source": [
    "ttest_ind(food['All Sugar forms pp'], food['Fruits & Veggies pp'])"
   ]
  },
  {
   "cell_type": "code",
   "execution_count": 14,
   "metadata": {},
   "outputs": [
    {
     "data": {
      "text/plain": [
       "Ttest_indResult(statistic=-101.36053780425362, pvalue=1.2009590516963246e-57)"
      ]
     },
     "execution_count": 14,
     "metadata": {},
     "output_type": "execute_result"
    }
   ],
   "source": [
    "ttest_ind(food['Sweetners, Honey, Dates pp'], food['Fruits & Veggies pp'])"
   ]
  },
  {
   "cell_type": "code",
   "execution_count": null,
   "metadata": {},
   "outputs": [],
   "source": []
  }
 ],
 "metadata": {
  "kernelspec": {
   "display_name": "Python 3",
   "language": "python",
   "name": "python3"
  },
  "language_info": {
   "codemirror_mode": {
    "name": "ipython",
    "version": 3
   },
   "file_extension": ".py",
   "mimetype": "text/x-python",
   "name": "python",
   "nbconvert_exporter": "python",
   "pygments_lexer": "ipython3",
   "version": "3.7.4"
  }
 },
 "nbformat": 4,
 "nbformat_minor": 2
}
